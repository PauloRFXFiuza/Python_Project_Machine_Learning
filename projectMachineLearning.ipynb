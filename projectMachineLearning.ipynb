{
 "cells": [
  {
   "cell_type": "markdown",
   "metadata": {},
   "source": [
    "# Analisando os preços das casas de Melbourne\n",
    "- Vamos usar o seguinte dataset:\n",
    "    - https://www.kaggle.com/datasets/dansbecker/melbourne-housing-snapshot?select=melb_data.csv\n",
    "    - Já retiramos algumas colunas para simplificar o nosso projeto (em projetos futuros, podemos trabalhar a base completa)"
   ]
  },
  {
   "cell_type": "markdown",
   "metadata": {},
   "source": [
    "## Importando e entendendo a base"
   ]
  },
  {
   "cell_type": "code",
   "execution_count": 18,
   "metadata": {},
   "outputs": [],
   "source": [
    "import pandas as pd\n",
    "import matplotlib.pyplot as plt\n",
    "import seaborn as sns\n",
    "from pandas_profiling import ProfileReport\n",
    "pd.options.display.float_format = '{:,.2f}'.format\n",
    "%matplotlib inline"
   ]
  },
  {
   "cell_type": "code",
   "execution_count": 19,
   "metadata": {},
   "outputs": [],
   "source": [
    "base = pd.read_csv(\"melb_data.csv\")"
   ]
  },
  {
   "cell_type": "markdown",
   "metadata": {},
   "source": [
    "## Tratando a base para usar no modelo"
   ]
  },
  {
   "cell_type": "code",
   "execution_count": 20,
   "metadata": {},
   "outputs": [],
   "source": [
    "# Vou retirar as colunas que tiverem uma alta cardinalidade\n",
    "base = base.drop([\"Suburb\",\"Address\",\"SellerG\",\"Date\"],axis=1)"
   ]
  },
  {
   "cell_type": "code",
   "execution_count": 21,
   "metadata": {},
   "outputs": [],
   "source": [
    "# Também vamos retirar colunas com mais de 20% de valores nulos\n",
    "base = base.drop([\"BuildingArea\",\"YearBuilt\"],axis=1)"
   ]
  },
  {
   "cell_type": "code",
   "execution_count": null,
   "metadata": {},
   "outputs": [],
   "source": [
    "# Visualizando a base restante\n",
    "base.head()"
   ]
  },
  {
   "cell_type": "code",
   "execution_count": null,
   "metadata": {},
   "outputs": [],
   "source": [
    "# Mostrando a correlação entre as variáveis\n",
    "plt.figure(figsize=(13,8))\n",
    "sns.heatmap(base.corr(),annot=True,cmap=\"YlGnBu\")\n",
    "plt.show()"
   ]
  },
  {
   "cell_type": "markdown",
   "metadata": {},
   "source": [
    "**Não teremos a correlação entre as variáveis de texto, para isso precisaríamos transformar em variáveis numéricas caso a gente queira usar essas variáveis**"
   ]
  },
  {
   "cell_type": "code",
   "execution_count": 24,
   "metadata": {},
   "outputs": [],
   "source": [
    "# Vou escolher o que tiver correlação mais alta e Landsize pois retiramos o BuildingArea\n",
    "base1 = base[[\"Price\",\"Rooms\",\"Bathroom\",\"Bedroom2\",\"Car\",\"Landsize\"]]"
   ]
  },
  {
   "cell_type": "markdown",
   "metadata": {},
   "source": [
    "### Verificando a base tratada"
   ]
  },
  {
   "cell_type": "code",
   "execution_count": null,
   "metadata": {},
   "outputs": [],
   "source": [
    "base1.info()"
   ]
  },
  {
   "cell_type": "markdown",
   "metadata": {},
   "source": [
    "**Ainda temos valores nulos na coluna \"Car\"**"
   ]
  },
  {
   "cell_type": "code",
   "execution_count": 26,
   "metadata": {},
   "outputs": [],
   "source": [
    "# Tratando valores nulos: retirando esses valores\n",
    "base1 = base1.dropna(axis=0)"
   ]
  },
  {
   "cell_type": "code",
   "execution_count": null,
   "metadata": {},
   "outputs": [],
   "source": [
    "base1.info()"
   ]
  },
  {
   "cell_type": "code",
   "execution_count": null,
   "metadata": {},
   "outputs": [],
   "source": [
    "base1.head()"
   ]
  },
  {
   "cell_type": "markdown",
   "metadata": {},
   "source": [
    "## Começando a criar nosso modelo de ML"
   ]
  },
  {
   "cell_type": "markdown",
   "metadata": {},
   "source": [
    "**O primeiro passo vai ser separar entre a nossa variável que queremos prever (Y) e quais vão ser as colunas que vamos usar para essa previsão (X)**"
   ]
  },
  {
   "cell_type": "code",
   "execution_count": 29,
   "metadata": {},
   "outputs": [],
   "source": [
    "Y = base1.Price\n",
    "X = base1.drop('Price', axis=1)"
   ]
  },
  {
   "cell_type": "markdown",
   "metadata": {},
   "source": [
    "**Em seguida, vamos separar a nossa base em treino e teste**\n",
    "- A base de treino vai ser usada para treinar o modelo para que ele faça as previsões\n",
    "- A base de teste vai ser usada para, ao usar o modelo já treinado, verificar o erro da previsão feita pelo modelo em relação aos valores reais"
   ]
  },
  {
   "cell_type": "code",
   "execution_count": 30,
   "metadata": {},
   "outputs": [],
   "source": [
    "from sklearn.model_selection import train_test_split\n",
    "x_treino,x_teste,y_treino,y_teste = train_test_split(X,Y)"
   ]
  },
  {
   "cell_type": "markdown",
   "metadata": {},
   "source": [
    "**O próximo passo é escolher o modelo que vamos usar**"
   ]
  },
  {
   "cell_type": "markdown",
   "metadata": {},
   "source": [
    "### <font color='blue'>Regressão Linear</font>"
   ]
  },
  {
   "cell_type": "code",
   "execution_count": 36,
   "metadata": {},
   "outputs": [],
   "source": [
    "# Importando o modelo\n",
    "from sklearn.linear_model import LinearRegression\n",
    "\n",
    "# Instanciando\n",
    "modelo_regressao = LinearRegression()\n",
    "\n",
    "# Realizando o fit do modelo\n",
    "modelo_regressao.fit(x_treino,y_treino)\n",
    "\n",
    "# Usando o modelo para prever os dados de teste\n",
    "y_regressao = modelo_regressao.predict(x_teste)"
   ]
  },
  {
   "cell_type": "code",
   "execution_count": null,
   "metadata": {},
   "outputs": [],
   "source": [
    "# Podemos visualizar os pontos previstos X real\n",
    "plt.figure(figsize=(10,10))\n",
    "sns.scatterplot(x=y_teste.values/1000000,y=y_regressao/1000000)\n",
    "plt.ylim(0,10)\n",
    "plt.xlim(0,10)\n",
    "plt.show()"
   ]
  },
  {
   "cell_type": "markdown",
   "metadata": {},
   "source": [
    "**Para avaliar o modelo, precisamos calcular os erros**"
   ]
  },
  {
   "cell_type": "code",
   "execution_count": null,
   "metadata": {},
   "outputs": [],
   "source": [
    "# Avaliando o erro quadrático médio\n",
    "from sklearn.metrics import mean_squared_error\n",
    "erro_quadratico_regressao = mean_squared_error(y_teste,y_regressao)\n",
    "print(erro_quadratico_regressao)"
   ]
  },
  {
   "cell_type": "code",
   "execution_count": null,
   "metadata": {},
   "outputs": [],
   "source": [
    "# Avaliando o R quadrado\n",
    "from sklearn.metrics import r2_score\n",
    "r2_regressao = r2_score(y_teste,y_regressao)\n",
    "print(r2_regressao)"
   ]
  },
  {
   "cell_type": "markdown",
   "metadata": {},
   "source": [
    "### <font color='blue'>Regressão Linear: selecionando outras colunas </font>"
   ]
  },
  {
   "cell_type": "code",
   "execution_count": 40,
   "metadata": {},
   "outputs": [],
   "source": [
    "# base1 = base1[[\"Price\",\"Rooms\",\"Bathroom\",\"Bedroom2\",\"Car\",\"Longtitude\",\"Lattitude\",\"Distance\",\"Landsize\",\"Postcode\",\"Propertycount\"]]\n",
    "base2 = base[[\"Price\",\"Rooms\",\"Bathroom\",\"Bedroom2\",\"Car\",\"Longtitude\",\"Lattitude\",\"Distance\",\"Landsize\",\"Postcode\",\"Propertycount\"]]"
   ]
  },
  {
   "cell_type": "code",
   "execution_count": null,
   "metadata": {},
   "outputs": [],
   "source": [
    "# Verificando valores nulos e tratando\n",
    "base2 = base2.dropna(axis=0)\n",
    "\n",
    "base2.info()"
   ]
  },
  {
   "cell_type": "markdown",
   "metadata": {},
   "source": [
    "**Vamos fazer as mesmas etapas que fizemos anteriormente**"
   ]
  },
  {
   "cell_type": "code",
   "execution_count": null,
   "metadata": {},
   "outputs": [],
   "source": [
    "# Separando a base\n",
    "Y = base2.Price\n",
    "X = base2.drop('Price', axis=1)\n",
    "\n",
    "# Dividindo em treino e teste\n",
    "x_treino,x_teste,y_treino,y_teste = train_test_split(X,Y)\n",
    "\n",
    "## Fazendo o fit para os novos dados\n",
    "# Instanciando\n",
    "modelo_regressao2 = LinearRegression()\n",
    "\n",
    "# Realizando o fit do modelo\n",
    "modelo_regressao2.fit(x_treino,y_treino)\n",
    "\n",
    "# Usando o modelo para prever os dados de teste\n",
    "y_regressao2 = modelo_regressao2.predict(x_teste)\n",
    "\n",
    "## Avaliando os erros\n",
    "# Erro quadrático médio\n",
    "erro_quadratico_regressao2 = mean_squared_error(y_teste,y_regressao2)\n",
    "print(erro_quadratico_regressao2)\n",
    "\n",
    "# R quadrado\n",
    "r2_regressao2 = r2_score(y_teste,y_regressao2)\n",
    "print(r2_regressao2)"
   ]
  },
  {
   "cell_type": "code",
   "execution_count": null,
   "metadata": {},
   "outputs": [],
   "source": [
    "# Podemos visualizar os pontos previstos X real\n",
    "plt.figure(figsize=(10,10))\n",
    "sns.scatterplot(x=y_teste.values/1000000,y=y_regressao2/1000000)\n",
    "plt.ylim(0,10)\n",
    "plt.xlim(0,10)\n",
    "plt.show()"
   ]
  },
  {
   "cell_type": "markdown",
   "metadata": {},
   "source": [
    "### <font color='blue'> Árvore de Decisão </font>\n",
    "- Já vamos usar o mesmo treino e teste que fizemos na base anterior"
   ]
  },
  {
   "cell_type": "code",
   "execution_count": 44,
   "metadata": {},
   "outputs": [],
   "source": [
    "# Importando o modelo\n",
    "from sklearn.tree import DecisionTreeRegressor\n",
    "\n",
    "# Instanciando\n",
    "modelo_arvore_decisao = DecisionTreeRegressor()\n",
    "\n",
    "# Realizando o fit do modelo\n",
    "modelo_arvore_decisao.fit(x_treino,y_treino)\n",
    "\n",
    "# Usando o modelo para prever os dados de teste\n",
    "y_arvore_decisao = modelo_arvore_decisao.predict(x_teste)"
   ]
  },
  {
   "cell_type": "code",
   "execution_count": null,
   "metadata": {},
   "outputs": [],
   "source": [
    "## Avaliando os erros\n",
    "# Erro quadrático médio\n",
    "erro_quadratico_arvore_decisao = mean_squared_error(y_teste,y_arvore_decisao)\n",
    "print(erro_quadratico_arvore_decisao)\n",
    "\n",
    "# R quadrado\n",
    "r2_arvore_decisao = r2_score(y_teste,y_arvore_decisao)\n",
    "print(r2_arvore_decisao)"
   ]
  },
  {
   "cell_type": "markdown",
   "metadata": {},
   "source": [
    "### Fazendo um resumo dos resultados"
   ]
  },
  {
   "cell_type": "code",
   "execution_count": null,
   "metadata": {},
   "outputs": [],
   "source": [
    "print('Regressão Linear')\n",
    "print('Erro quadrático médio: ' + str(round(erro_quadratico_regressao,2)))\n",
    "print('R quadrado: '+ str(round(r2_regressao,4)))\n",
    "print('-----------------------------------------')\n",
    "print('Regressão Linear: novas features')\n",
    "print('Erro quadrático médio: ' + str(round(erro_quadratico_regressao2,2)))\n",
    "print('R quadrado: '+ str(round(r2_regressao2,4)))\n",
    "print('-----------------------------------------')\n",
    "print('Árvore de Decisão')\n",
    "print('Erro quadrático médio: ' + str(round(erro_quadratico_arvore_decisao,2)))\n",
    "print('R quadrado: '+ str(round(r2_arvore_decisao,4)))"
   ]
  }
 ],
 "metadata": {
  "kernelspec": {
   "display_name": "Python 3 (ipykernel)",
   "language": "python",
   "name": "python3"
  },
  "language_info": {
   "codemirror_mode": {
    "name": "ipython",
    "version": 3
   },
   "file_extension": ".py",
   "mimetype": "text/x-python",
   "name": "python",
   "nbconvert_exporter": "python",
   "pygments_lexer": "ipython3",
   "version": "3.9.7"
  }
 },
 "nbformat": 4,
 "nbformat_minor": 4
}
